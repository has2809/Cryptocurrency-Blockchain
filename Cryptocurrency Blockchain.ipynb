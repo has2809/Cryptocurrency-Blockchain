{
 "cells": [
  {
   "cell_type": "code",
   "execution_count": 1,
   "id": "926a14e8-1911-49db-8537-0557df060dc2",
   "metadata": {},
   "outputs": [],
   "source": [
    "import hashlib\n",
    "from datetime import datetime\n",
    "import ecdsa"
   ]
  },
  {
   "cell_type": "code",
   "execution_count": 2,
   "id": "190cff94-bdf4-4381-bd65-d5887702e57b",
   "metadata": {},
   "outputs": [],
   "source": [
    "def get_timestamp():\n",
    "    date = datetime.now()\n",
    "    return str(datetime.timestamp(date))"
   ]
  },
  {
   "cell_type": "code",
   "execution_count": 18,
   "id": "5e2b3e1d-ee33-455e-916a-519bc9f4e4c8",
   "metadata": {},
   "outputs": [],
   "source": [
    "class Transaction:\n",
    "    def __init__(self, from_address, to_address, amount):\n",
    "        self.from_address = from_address\n",
    "        self.to_address = to_address\n",
    "        self.amount = amount\n",
    "        self.signature = None\n",
    "        \n",
    "    def calculate_hash(self):\n",
    "        concat = self.from_address + self.to_address + str(self.amount)\n",
    "        return hashlib.sha256(concat.encode('utf-8')).hexdigest()\n",
    "\n",
    "    def sign_transaction(self, signing_key):\n",
    "        if signing_key.get_verifying_key().to_string().hex() != self.from_address:\n",
    "            raise ValueError(\"Error. You can't sign transactions of other wallets\")\n",
    "        transaction_hash = self.calculate_hash()\n",
    "        self.signature = signing_key.sign(bytes(transaction_hash.encode('utf-8')))\n",
    "        \n",
    "    def isValid(self):\n",
    "        if self.from_address == None:\n",
    "            return True                  # mining reward transaction\n",
    "        if (self.signature == None) or (len(self.signature) == 0):\n",
    "            raise ValueError('Error. No signature in this transaction!')\n",
    "        verifying_key = ecdsa.VerifyingKey.from_string(bytes.fromhex(self.from_address), curve=ecdsa.SECP256k1)\n",
    "        return verifying_key.verify(self.signature, bytes(self.calculate_hash().encode('utf-8'))) #True of False\n",
    "        \n",
    "\n",
    "class Block:\n",
    "    def __init__(self, timestamp, data, previous_hash = \"\"):     #data contains transactions\n",
    "        self.timestamp = timestamp\n",
    "        self.previous_hash = previous_hash\n",
    "        self.data = data\n",
    "        self.nonce = 0\n",
    "        self.block_hash = self.calculate_hash()\n",
    "\n",
    "    def calculate_hash(self):\n",
    "        concat = self.previous_hash + self.timestamp + str(self.data) + str(self.nonce)\n",
    "        return hashlib.sha256(concat.encode('utf-8')).hexdigest()\n",
    "        \n",
    "    def mine_block(self, difficulity):\n",
    "        while self.block_hash[:difficulity] != \"0\" * difficulity:\n",
    "            self.nonce += 1\n",
    "            self.block_hash = self.calculate_hash()\n",
    "        \n",
    "    def get_block_data(self):\n",
    "        return {\n",
    "            \"timestamp\":self.timestamp,\n",
    "            \"previous_hash\":self.previous_hash,\n",
    "            \"data\":self.data,\n",
    "            \"block_hash\":self.block_hash,\n",
    "            \"nonce\":self.nonce\n",
    "        }\n",
    "        \n",
    "    def has_valid_transactions(self):\n",
    "        for transaction in self.data:\n",
    "            if not transaction.isValid():\n",
    "                return False\n",
    "        return True\n",
    "        "
   ]
  },
  {
   "cell_type": "code",
   "execution_count": 19,
   "id": "e951a29e-bebf-417e-a4cf-44bdbde4e102",
   "metadata": {},
   "outputs": [],
   "source": [
    "class Blockchain:\n",
    "    def __init__(self, difficulity=5):\n",
    "        self.chain = []\n",
    "        self.difficulity = difficulity\n",
    "        self.chain.append(self.create_genesis_block())\n",
    "        self.mining_reward = 100\n",
    "        self.pending_transactions = []\n",
    "    \n",
    "    def create_genesis_block(self):\n",
    "        genesis_block = Block(get_timestamp(), [Transaction(\"\",\"\",0)], \"0\")\n",
    "        genesis_block.mine_block(self.difficulity)\n",
    "        return genesis_block\n",
    "        \n",
    "    def get_latest_block(self):\n",
    "        return self.chain[-1]\n",
    "\n",
    "    def add_transaction(self, transaction):\n",
    "        if transaction.from_address == None or transaction.to_address == None:\n",
    "            raise ValueError(\"Error. Transaction must have a from and to addresses\")\n",
    "        if transaction.amount <=0:\n",
    "            raise ValueError(\"Error. Transaction amount must be greater than 0\")\n",
    "        if not transaction.isValid():\n",
    "            raise ValueError(\"Error. Can't add an invalid transaction\")\n",
    "        self.pending_transactions.append(transaction)\n",
    "        \n",
    "    def mine_pending_transactions(self, mining_reward_address):\n",
    "        self.pending_transactions.append(Transaction(None, mining_reward_address, self.mining_reward))\n",
    "        new_block = Block(get_timestamp(), self.pending_transactions)\n",
    "        new_block.previous_hash = self.get_latest_block().block_hash\n",
    "        new_block.mine_block(self.difficulity)\n",
    "        self.chain.append(new_block)\n",
    "        self.pending_transactions = []\n",
    "\n",
    "    def get_balance(self, address):\n",
    "        balance = 0\n",
    "        for block in self.chain:\n",
    "            for transaction in block.data:\n",
    "                if transaction.to_address == address:\n",
    "                    balance += transaction.amount\n",
    "                elif transaction.from_address == address:\n",
    "                    balance -= transaction.amount\n",
    "        return balance\n",
    "            \n",
    "\n",
    "    def check_validity(self):\n",
    "        for i in range(1, len(self.chain)):\n",
    "            current = self.chain[i]\n",
    "            previous = self.chain[i-1]\n",
    "            if current.previous_hash != previous.block_hash:\n",
    "                return False\n",
    "            if current.block_hash != current.calculate_hash():\n",
    "                return False\n",
    "            if not current.has_valid_transactions():\n",
    "                return False\n",
    "            return True\n",
    "            \n",
    "            \n",
    "        \n",
    "\n"
   ]
  },
  {
   "cell_type": "code",
   "execution_count": 33,
   "id": "3585d409-f575-4377-96d3-2c677ac96a20",
   "metadata": {},
   "outputs": [],
   "source": [
    "sk = ecdsa.SigningKey.generate(curve=ecdsa.SECP256k1)\n",
    "private_key = sk.to_string().hex()\n",
    "vk = sk.get_verifying_key()\n",
    "public_key = vk.to_string().hex()"
   ]
  },
  {
   "cell_type": "code",
   "execution_count": 21,
   "id": "90db5a4f-8a3f-4f58-a437-459613d42d9b",
   "metadata": {},
   "outputs": [],
   "source": [
    "c = Blockchain(3)"
   ]
  },
  {
   "cell_type": "code",
   "execution_count": 22,
   "id": "133f497a-58ef-4659-bba2-952003c1add2",
   "metadata": {},
   "outputs": [],
   "source": [
    "t = Transaction(public_key, \"address\", 50)\n",
    "t.sign_transaction(sk)"
   ]
  },
  {
   "cell_type": "code",
   "execution_count": 23,
   "id": "4e99d388-04d8-4f00-9f93-9c7cab256404",
   "metadata": {},
   "outputs": [],
   "source": [
    "c.add_transaction(t)"
   ]
  },
  {
   "cell_type": "code",
   "execution_count": 24,
   "id": "fd7ae943-723c-4392-9168-8e13c24af41c",
   "metadata": {},
   "outputs": [],
   "source": [
    "c.mine_pending_transactions(\"\")"
   ]
  },
  {
   "cell_type": "code",
   "execution_count": 25,
   "id": "5390ecd9-6fb1-480d-af57-3cd179eefa36",
   "metadata": {},
   "outputs": [
    {
     "data": {
      "text/plain": [
       "0"
      ]
     },
     "execution_count": 25,
     "metadata": {},
     "output_type": "execute_result"
    }
   ],
   "source": [
    "c.get_balance(\"address3\")"
   ]
  },
  {
   "cell_type": "code",
   "execution_count": 26,
   "id": "4b448eac-5576-4f93-806f-c45dc819c696",
   "metadata": {},
   "outputs": [
    {
     "data": {
      "text/plain": [
       "True"
      ]
     },
     "execution_count": 26,
     "metadata": {},
     "output_type": "execute_result"
    }
   ],
   "source": [
    "c.check_validity()"
   ]
  },
  {
   "cell_type": "code",
   "execution_count": null,
   "id": "76ce4630-5487-4a31-8789-aaa1e5b703c4",
   "metadata": {},
   "outputs": [],
   "source": []
  }
 ],
 "metadata": {
  "kernelspec": {
   "display_name": "Python 3 (ipykernel)",
   "language": "python",
   "name": "python3"
  },
  "language_info": {
   "codemirror_mode": {
    "name": "ipython",
    "version": 3
   },
   "file_extension": ".py",
   "mimetype": "text/x-python",
   "name": "python",
   "nbconvert_exporter": "python",
   "pygments_lexer": "ipython3",
   "version": "3.11.5"
  }
 },
 "nbformat": 4,
 "nbformat_minor": 5
}
